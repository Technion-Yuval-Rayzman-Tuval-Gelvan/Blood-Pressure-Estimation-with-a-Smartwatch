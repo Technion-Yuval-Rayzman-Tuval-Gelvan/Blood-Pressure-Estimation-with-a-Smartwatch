{
  "nbformat": 4,
  "nbformat_minor": 0,
  "metadata": {
    "colab": {
      "name": "Blood Presure Estimation based on PPG signal.ipynb",
      "private_outputs": true,
      "provenance": [],
      "collapsed_sections": []
    },
    "kernelspec": {
      "display_name": "Python 3",
      "name": "python3"
    },
    "language_info": {
      "name": "python"
    },
    "accelerator": "GPU"
  },
  "cells": [
    {
      "cell_type": "markdown",
      "metadata": {
        "id": "ir01E3bZSP8o"
      },
      "source": [
        "# **MIMIC 3 Download using WFDB Python Package**\n",
        "\n",
        "---\n",
        "\n"
      ]
    },
    {
      "cell_type": "markdown",
      "metadata": {
        "id": "u0GIi8CRSpKV"
      },
      "source": [
        "**Install WFDB Package** \\\n",
        "library contains functions to download data from physionet.\n"
      ]
    },
    {
      "cell_type": "code",
      "metadata": {
        "id": "9kpHGZtuOhTk"
      },
      "source": [
        "pip install wfdb"
      ],
      "execution_count": null,
      "outputs": []
    },
    {
      "cell_type": "code",
      "metadata": {
        "id": "O2TOSK8RPdv7"
      },
      "source": [
        "from IPython.display import display\n",
        "import matplotlib.pyplot as plt\n",
        "%matplotlib inline\n",
        "import numpy as np\n",
        "import os\n",
        "import shutil\n",
        "import posixpath\n",
        "import pandas as pd\n",
        "import requests\n",
        "import wfdb\n",
        "from wfdb.io import download\n",
        "import matplotlib.pyplot as plt\n",
        "from scipy.signal import find_peaks,welch\n",
        "from scipy.stats import entropy"
      ],
      "execution_count": null,
      "outputs": []
    },
    {
      "cell_type": "markdown",
      "metadata": {
        "id": "anAaFEKqb4sP"
      },
      "source": [
        "**rdrecord function** \\\n",
        "\n",
        "Read a WFDB record using the 'rdrecord' function into a wfdb.Record object.\n",
        "\n",
        "Plot the signals, and show the data.\n",
        "\n",
        "The file '3000063_0006' hosted on PhysioNet https://physionet.org/content/mimic3wdb/30/3000063/."
      ]
    },
    {
      "cell_type": "code",
      "metadata": {
        "id": "Cbj5Lhh0O8mY"
      },
      "source": [
        "record = wfdb.rdrecord('3000063_0006', pn_dir='mimic3wdb/30/3000063/')\n",
        "wfdb.plot_wfdb(record=record, title='Record 3000063_0006 from PhysioNet mimic3wdb') \n",
        "display(record.__dict__)\n",
        "record = wfdb.rdrecord('3000063n', pn_dir='mimic3wdb/30/3000063/', channel_names=['ABP SYS','ABP DIAS','ABP MEAN',])\n",
        "wfdb.plot_wfdb(record=record, title='Record 3000063n from PhysioNet mimic3wdb') \n",
        "display(record.__dict__)"
      ],
      "execution_count": null,
      "outputs": []
    },
    {
      "cell_type": "markdown",
      "metadata": {
        "id": "lqT14exNeDLa"
      },
      "source": [
        "**rdsamp function** \\\n",
        "Read certain channels and sections of the WFDB record using the simplified 'rdsamp' function\n",
        "which returns a numpy array and a dictionary. Show the data.\n",
        " \n",
        "742015 samples = 1 hour, 38 minutes, and 56 seconds, at 125 samples per second. "
      ]
    },
    {
      "cell_type": "code",
      "metadata": {
        "id": "K8WHIcieRnLw"
      },
      "source": [
        "signals, fields = wfdb.rdsamp('3000063_0006', pn_dir='mimic3wdb/30/3000063/', channel_names=['PLETH','ABP'])\n",
        "numeric_signals, numeric_fields = wfdb.rdsamp('3000063n', pn_dir='mimic3wdb/30/3000063/', channel_names=['ABP SYS','ABP DIAS','ABP MEAN'])\n",
        "signals_df = pd.DataFrame(signals)\n",
        "fields = pd.Series(fields)\n",
        "print(signals_df)\n",
        "print(fields)\n",
        "numeric_signals_df = pd.DataFrame(numeric_signals)\n",
        "numeric_fields = pd.Series(numeric_fields)\n",
        "print(numeric_signals_df)\n",
        "print(numeric_fields)"
      ],
      "execution_count": null,
      "outputs": []
    },
    {
      "cell_type": "markdown",
      "metadata": {
        "id": "OQOKDUhEMaL0"
      },
      "source": [
        "Filter nan values."
      ]
    },
    {
      "cell_type": "code",
      "metadata": {
        "id": "4mQ1p7d_MVhP"
      },
      "source": [
        "filtered_array_indices = {}\n",
        "filtered_array = {} \n",
        "for i,field in enumerate(fields['sig_name']):\n",
        "  filtered_array_indices[field] = np.where(np.isnan(signals[:, i]) == False)\n",
        "  filtered_array[field] = signals[filtered_array_indices[field], i]\n",
        "  print(filtered_array_indices[field])\n",
        "  \n",
        "display(\"indices:\", filtered_array_indices)\n",
        "display(\"filtered data:\", filtered_array)"
      ],
      "execution_count": null,
      "outputs": []
    },
    {
      "cell_type": "markdown",
      "metadata": {
        "id": "NsDWZC_joeHi"
      },
      "source": [
        "**Header file** \\\n",
        "contain data on the signal. used to download only relevant data."
      ]
    },
    {
      "cell_type": "code",
      "metadata": {
        "id": "FQpy_a0-ovAm"
      },
      "source": [
        "record = wfdb.rdheader('3000060_0001', pn_dir='mimic3wdb/30/3000060/', rd_segments=True)\n",
        "display(record.__dict__)\n",
        "ppg_signals, ppg_fields = wfdb.rdsamp('3000060_0002', pn_dir='mimic3wdb/30/3000060/', channel_names=['PLETH'])"
      ],
      "execution_count": null,
      "outputs": []
    },
    {
      "cell_type": "markdown",
      "metadata": {
        "id": "ZzJBm5dqaxSv"
      },
      "source": [
        "**Download Full Data** \\\n",
        "Not recommended - take more then a month."
      ]
    },
    {
      "cell_type": "code",
      "metadata": {
        "id": "LHjR4Z3ygg_q"
      },
      "source": [
        "# Make a temporary download directory in your current working directory\n",
        "cwd = os.getcwd()\n",
        "dl_dir = os.path.join(cwd, 'tmp_dl_dir')\n",
        "\n",
        "# Download all the WFDB content\n",
        "# wfdb.dl_database('mimic3wdb/31/3141595', dl_dir=dl_dir)\n",
        "\n",
        "# Display the downloaded content in the folder\n",
        "# display(os.listdir(dl_dir))\n",
        "\n",
        "# Cleanup: delete the downloaded directory\n",
        "# shutil.rmtree(dl_dir)"
      ],
      "execution_count": null,
      "outputs": []
    },
    {
      "cell_type": "markdown",
      "metadata": {
        "id": "Qpdd1_oTUxFL"
      },
      "source": [
        "**File List to Download** \\\n",
        "Make a list of file names to download."
      ]
    },
    {
      "cell_type": "code",
      "metadata": {
        "id": "AmXV-xu_qBL5"
      },
      "source": [
        "db_dir = 'mimic3wdb'\n",
        "# Full url PhysioNet database\n",
        "if '/' in db_dir:\n",
        "    dir_list = db_dir.split('/')\n",
        "    db_dir = posixpath.join(dir_list[0], wfdb.io.record.get_version(dir_list[0]), *dir_list[1:])\n",
        "else:\n",
        "    db_dir = posixpath.join(db_dir,  wfdb.io.record.get_version(db_dir))\n",
        "db_url = posixpath.join(download.PN_CONTENT_URL, db_dir) + '/'\n",
        "# Check if the database is valid\n",
        "r = requests.get(db_url)\n",
        "r.raise_for_status()\n",
        "# Get the list of records\n",
        "record_list = download.get_record_list(db_dir)\n",
        "\n",
        "print(f'Record list is: {record_list}')\n",
        "\n",
        "all_files = []\n",
        "nested_records = []\n",
        "record_list = ['30/3000063/']\n",
        "\n",
        "for rec in record_list:\n",
        "  # Check out whether each record is in MIT or EDF format\n",
        "  if rec.endswith('.edf'):\n",
        "      all_files.append(rec)\n",
        "  else:\n",
        "      # May be pointing to directory\n",
        "      if rec.endswith(os.sep):\n",
        "          nested_records += [posixpath.join(rec, sr) for sr in download.get_record_list(posixpath.join(db_dir, rec))]\n",
        "      else:\n",
        "          nested_records.append(rec)\n",
        "\n",
        "print(f'Nested record list is: {nested_records}')"
      ],
      "execution_count": null,
      "outputs": []
    },
    {
      "cell_type": "markdown",
      "metadata": {
        "id": "_tigS8TidCus"
      },
      "source": [
        "**Download Filtered Data** \\\n",
        "Go through all the headers in this directory and download just samples with ABP and PLETH signal."
      ]
    },
    {
      "cell_type": "code",
      "metadata": {
        "id": "osG2TQIGWoha"
      },
      "source": [
        "filtered_records_list = []  \n",
        "for rec in nested_records:\n",
        "  # If MIT format, have to figure out all associated files\n",
        "  all_files.append(rec+'.hea')\n",
        "  dir_name, base_rec_name = os.path.split(rec)\n",
        "  rec_header = wfdb.rdheader(base_rec_name, pn_dir=posixpath.join(db_dir, dir_name))\n",
        "    \n",
        "  if rec_header.sig_name and 'PLETH' in rec_header.sig_name and 'ABP' in rec_header.sig_name:\n",
        "    record = wfdb.rdrecord(rec_header.record_name, pn_dir=posixpath.join(db_dir, dir_name), channel_names=['PLETH','ABP'])\n",
        "    filtered_records_list.append((record, dir_name))\n",
        "    wfdb.plot_wfdb(record=record, title=f'Record {record.record_name} from PhysioNet mimic3wdb')\n"
      ],
      "execution_count": null,
      "outputs": []
    },
    {
      "cell_type": "markdown",
      "metadata": {
        "id": "CPBGE2XD87tW"
      },
      "source": [
        "**Save Data** \\\n",
        "save class record in its original directory hierarchy."
      ]
    },
    {
      "cell_type": "code",
      "metadata": {
        "id": "zpnlhDyX9BXz"
      },
      "source": [
        "record1, dir_name1 = filtered_records_list[0]\n",
        "record2, dir_name2 = filtered_records_list[1]\n",
        "\n",
        "import pickle\n",
        "\n",
        "#save it\n",
        "os.makedirs(posixpath.join(db_dir, dir_name1), exist_ok=True)\n",
        "os.makedirs(posixpath.join(db_dir, dir_name2), exist_ok=True)\n",
        "\n",
        "with open(f'{posixpath.join(db_dir, dir_name1, record1.record_name)}', 'wb') as file:\n",
        "    pickle.dump(record1, file)\n",
        "\n",
        "with open(f'{posixpath.join(db_dir, dir_name2, record2.record_name)}', 'wb') as file:\n",
        "    pickle.dump(record2, file)"
      ],
      "execution_count": null,
      "outputs": []
    },
    {
      "cell_type": "markdown",
      "metadata": {
        "id": "5one44ps5RTH"
      },
      "source": [
        "**Load Data** \\\n",
        "load class record."
      ]
    },
    {
      "cell_type": "code",
      "metadata": {
        "id": "IjXHW6a65RGj"
      },
      "source": [
        "with open(f'{posixpath.join(db_dir, dir_name1, record1.record_name)}', 'rb') as file:\n",
        "    record = pickle.load(file)\n",
        "  \n",
        "display(record.__dict__)\n",
        "print(pd.DataFrame(record.p_signal))\n",
        "\n",
        "import os\n",
        "\n",
        "# traverse root directory, and list directories as dirs and files as files\n",
        "for root, dirs, files in os.walk(db_dir):\n",
        "    path = root.split(os.sep)\n",
        "    print((len(path) - 1) * '---', os.path.basename(root))\n",
        "    for file in files:\n",
        "        print(len(path) * '---', file)"
      ],
      "execution_count": null,
      "outputs": []
    },
    {
      "cell_type": "markdown",
      "metadata": {
        "id": "Q7ohtZR09LxD"
      },
      "source": [
        "**Sample Blood Presure** \\\n",
        "sample the ABP signal to get sistolic and diastolic blood presure."
      ]
    },
    {
      "cell_type": "code",
      "metadata": {
        "id": "t2qVxMMz9TcA"
      },
      "source": [
        "abp_index = record.sig_name.index('ABP')\n",
        "ppg_index = record.sig_name.index('PLETH')\n",
        "abp_signal = np.array(record.p_signal[:, abp_index])\n",
        "ppg_signal = np.array(record.p_signal[:, ppg_index])\n",
        "abp_fs = record.fs\n",
        "start_point = 200000\n",
        "window_in_sec = 5\n",
        "end_point = start_point + (window_in_sec*abp_fs)\n",
        "cut_abp_signal = abp_signal[start_point:end_point]\n",
        "\n",
        "x = np.linspace(0, window_in_sec, len(cut_abp_signal))\n",
        "plt.title('5 Seconds Window ABP signal')\n",
        "plt.plot(x, cut_abp_signal)\n",
        "plt.ylabel('ABP [mmHg]')\n",
        "plt.xlabel('Time [sec]')"
      ],
      "execution_count": null,
      "outputs": []
    },
    {
      "cell_type": "markdown",
      "metadata": {
        "id": "Du3ES6eBwaaB"
      },
      "source": [
        "**Detect Systolic and Diastolic Blood Presure** \\\n"
      ]
    },
    {
      "cell_type": "markdown",
      "metadata": {
        "id": "TzdhHVbcJCCL"
      },
      "source": [
        "**Systolic Blood Presure**"
      ]
    },
    {
      "cell_type": "code",
      "metadata": {
        "id": "rEChCrdxJGtY"
      },
      "source": [
        "max_peaks, _ = find_peaks(cut_abp_signal)\n",
        "sys_peaks = max_peaks[cut_abp_signal[max_peaks] >= np.mean(cut_abp_signal[max_peaks])]\n",
        "x = np.linspace(0, window_in_sec, len(cut_abp_signal))\n",
        "plt.title('5 Seconds Window ABP signal')\n",
        "plt.plot(x, cut_abp_signal)\n",
        "plt.plot(sys_peaks/abp_fs, cut_abp_signal[sys_peaks], 'x')\n",
        "plt.ylabel('ABP [mmHg]')\n",
        "plt.xlabel('Time [sec]')\n",
        "\n",
        "systolic_bp = np.mean(cut_abp_signal[sys_peaks])\n",
        "print(f'systolic_bp: {systolic_bp}')"
      ],
      "execution_count": null,
      "outputs": []
    },
    {
      "cell_type": "markdown",
      "metadata": {
        "id": "17JGaubFKzRd"
      },
      "source": [
        "**Diastolic blood presure**"
      ]
    },
    {
      "cell_type": "code",
      "metadata": {
        "id": "PlGvHC2OK2VY"
      },
      "source": [
        "min_peaks, _ = find_peaks(-cut_abp_signal)\n",
        "dias_peaks = min_peaks[cut_abp_signal[min_peaks] <= np.mean(cut_abp_signal[min_peaks])]\n",
        "\n",
        "x = np.linspace(0, window_in_sec, len(cut_abp_signal))\n",
        "plt.title('5 Seconds Window ABP signal')\n",
        "plt.plot(x, cut_abp_signal)\n",
        "plt.plot(dias_peaks/abp_fs, cut_abp_signal[dias_peaks], \"x\")\n",
        "plt.ylabel('ABP [mmHg]')\n",
        "plt.xlabel('Time [sec]')\n",
        "plt.show()\n",
        "\n",
        "diastolic_bp = np.mean(cut_abp_signal[dias_peaks])\n",
        "print(f'diastolic_bp: {diastolic_bp}')"
      ],
      "execution_count": null,
      "outputs": []
    },
    {
      "cell_type": "markdown",
      "metadata": {
        "id": "-t1x9orVLVKQ"
      },
      "source": [
        "**Blood pressure detection**"
      ]
    },
    {
      "cell_type": "code",
      "metadata": {
        "id": "4LaTjlcTLY6U"
      },
      "source": [
        "def bp_detection(signal):\n",
        "\n",
        "  max_peaks, _ = find_peaks(signal)\n",
        "  sys_peaks = max_peaks[signal[max_peaks] >= np.mean(signal[max_peaks])]\n",
        "  min_peaks, _ = find_peaks(-signal)\n",
        "  dias_peaks = min_peaks[signal[min_peaks] <= np.mean(signal[min_peaks])]\n",
        "  \n",
        "  systolic_bp = np.mean(signal[sys_peaks])\n",
        "  diastolic_bp = np.mean(signal[dias_peaks])\n",
        "\n",
        "  return systolic_bp, diastolic_bp"
      ],
      "execution_count": null,
      "outputs": []
    },
    {
      "cell_type": "markdown",
      "metadata": {
        "id": "H8BtDwRR1t2z"
      },
      "source": [
        "**Windows signal** \\\n",
        "Seperate the signal to windows of 30 seconds \\\n",
        "Overlap 50% of the previous window"
      ]
    },
    {
      "cell_type": "code",
      "metadata": {
        "id": "FbYhpl_e1u3e"
      },
      "source": [
        "bp_windows = []\n",
        "ppg_windows = []\n",
        "abp_fs = record.fs\n",
        "start_point = 0\n",
        "window_in_sec = 30\n",
        "end_point = start_point + (window_in_sec*abp_fs)\n",
        "window_overlap = window_in_sec / 2\n",
        "new_samples_per_step = np.int(window_overlap * abp_fs)\n",
        "\n",
        "while end_point < record.sig_len:\n",
        "  bp_windows.append(abp_signal[start_point:end_point])\n",
        "  ppg_windows.append(ppg_signal[start_point:end_point])\n",
        "  start_point += new_samples_per_step\n",
        "  end_point += new_samples_per_step\n",
        "\n",
        "print(pd.DataFrame(bp_windows))\n",
        "print(pd.DataFrame(ppg_windows))"
      ],
      "execution_count": null,
      "outputs": []
    },
    {
      "cell_type": "markdown",
      "metadata": {
        "id": "q0TrqEeTUxD1"
      },
      "source": [
        "**Filter Blood Pressure**"
      ]
    },
    {
      "cell_type": "code",
      "metadata": {
        "id": "0fdqIZkhU3em"
      },
      "source": [
        "filtered_bp = []\n",
        "for i,win in enumerate(bp_windows):\n",
        "  \n",
        "  if np.count_nonzero(np.isnan(win)):\n",
        "    continue\n",
        "\n",
        "  sys, dias = bp_detection(win)\n",
        "  max_peak = np.max(win)\n",
        "  min_peak = np.min(win)\n",
        "\n",
        "  if sys > 165 or sys < 75 or dias < 40 or dias > 85 or min_peak < 40 or max_peak > 185:\n",
        "    continue\n",
        "\n",
        "  filtered_bp.append(win)\n",
        "\n",
        "bp_windows = np.array(bp_windows)\n",
        "print(pd.DataFrame(filtered_bp))"
      ],
      "execution_count": null,
      "outputs": []
    },
    {
      "cell_type": "code",
      "metadata": {
        "id": "g-C1_YASEFTo"
      },
      "source": [
        "bp_windows = np.concatenate(bp_windows)\n",
        "filtered_bp = np.concatenate(filtered_bp)\n",
        "\n",
        "samples_in_hour = abp_fs*3600\n",
        "x1 = np.linspace(0, (len(bp_windows)/samples_in_hour), len(bp_windows))\n",
        "x2 = np.linspace(0, (len(filtered_bp)/samples_in_hour), len(filtered_bp))\n",
        "fig, axs = plt.subplots(2)\n",
        "fig.suptitle('ABP signal')\n",
        "axs[0].plot(x1, bp_windows)\n",
        "axs[1].plot(x2, filtered_bp)\n",
        "axs[0].set(xlabel='Time [hours]', ylabel='ABP [mmHg]')\n",
        "axs[1].set(xlabel='Time [hours]', ylabel='ABP [mmHg]')\n"
      ],
      "execution_count": null,
      "outputs": []
    },
    {
      "cell_type": "markdown",
      "metadata": {
        "id": "lNRD8HCS1XtL"
      },
      "source": [
        "**Cross Correlation** \\\n",
        "Use cross correletion to check the quality of the signal"
      ]
    },
    {
      "cell_type": "code",
      "metadata": {
        "id": "M9KUSwZw1mNm"
      },
      "source": [
        "ppg_norm = []\n",
        "filtered_ppg = []\n",
        "\n",
        "for i,ppg_window in enumerate(ppg_windows):\n",
        "\n",
        "  ppg_centered = ppg_window - np.mean(ppg_window)\n",
        "  ppg_corr = np.correlate(ppg_centered, ppg_centered, 'full')\n",
        "  ppg_corr_norm = ppg_corr/ppg_corr[3750]\n",
        "  ppg_corr_norm = ppg_corr_norm[len(ppg_window):]\n",
        "  \n",
        "  e_ppg_centered = np.sum(np.power(ppg_centered,2))\n",
        "  e_ppg_corr_norm = np.sum(np.power(ppg_corr_norm,2))\n",
        "\n",
        "  if not np.count_nonzero(np.isnan(ppg_window)):\n",
        "    ppg_norm.append(e_ppg_corr_norm)\n",
        "    filtered_ppg.append(ppg_window)\n",
        "\n",
        "filtered_ppg = np.array(filtered_ppg)\n",
        "ppg_norm = np.array(ppg_norm)\n",
        "max_index = np.argmax(ppg_norm)\n",
        "min_index = np.argmin(ppg_norm)\n",
        "\n",
        "good_signals = filtered_ppg[np.where(ppg_norm > 375)]\n",
        "bad_signals = filtered_ppg[ppg_norm <= 375]\n",
        "\n",
        "mid_good_norm = np.median(ppg_norm[ppg_norm > 375])\n",
        "mid_bad_norm = np.median(ppg_norm[ppg_norm <= 375])\n",
        "mid_good_signal_index = np.where(ppg_norm == mid_good_norm)\n",
        "mid_bad_signal_index = np.where(ppg_norm == mid_bad_norm)\n",
        "mid_good_signal_index = np.concatenate(np.array(mid_good_signal_index))[0]\n",
        "mid_bad_signal_index = np.concatenate(np.array(mid_bad_signal_index))[0]\n",
        "\n",
        "low_good_norm = np.min(ppg_norm[ppg_norm > 375])\n",
        "high_bad_norm = np.max(ppg_norm[ppg_norm <= 375])\n",
        "low_good_signal_index = np.where(ppg_norm == low_good_norm)\n",
        "high_bad_signal_index = np.where(ppg_norm == high_bad_norm)\n",
        "low_good_signal_index = np.concatenate(np.array(low_good_signal_index))[0]\n",
        "high_bad_signal_index = np.concatenate(np.array(high_bad_signal_index))[0]\n",
        "\n",
        "x = np.linspace(0, window_in_sec, len(filtered_ppg[max_index]))\n",
        "fig, axs = plt.subplots(3)\n",
        "fig.suptitle('Good PPG signal')\n",
        "axs[0].plot(x, filtered_ppg[max_index])\n",
        "axs[1].plot(x, filtered_ppg[mid_good_signal_index])\n",
        "axs[2].plot(x, filtered_ppg[low_good_signal_index])\n",
        "axs[0].set(xlabel='Time [sec]', ylabel='PLETH [NU]')\n",
        "axs[1].set(xlabel='Time [sec]', ylabel='PLETH [NU]')\n",
        "axs[2].set(xlabel='Time [sec]', ylabel='PLETH [NU]')\n",
        "\n",
        "fig, axs = plt.subplots(3)\n",
        "fig.suptitle('Bad PPG signal')\n",
        "axs[2].plot(x, filtered_ppg[min_index])\n",
        "axs[1].plot(x, filtered_ppg[mid_bad_signal_index])\n",
        "axs[0].plot(x, filtered_ppg[high_bad_signal_index])\n",
        "axs[0].set(xlabel='Time [sec]', ylabel='PLETH [NU]')\n",
        "axs[1].set(xlabel='Time [sec]', ylabel='PLETH [NU]')\n",
        "axs[2].set(xlabel='Time [sec]', ylabel='PLETH [NU]')"
      ],
      "execution_count": null,
      "outputs": []
    },
    {
      "cell_type": "markdown",
      "metadata": {
        "id": "3yez6X80qCeM"
      },
      "source": [
        "## **Signal Quality Indices (SQI)** \n",
        "#### **[Optimal Signal Quality Index for Photoplethysmogram Signals](https://technionmail-my.sharepoint.com/personal/tuvalgelvan_campus_technion_ac_il/_layouts/15/onedrive.aspx?listurl=%2Fpersonal%2Fmyair%5Ftechnion%5Fac%5Fil%2FDocuments&remoteItem=%7B%22mp%22%3A%7B%22webAbsoluteUrl%22%3A%22https%3A%2F%2Ftechnionmail%2Dmy%2Esharepoint%2Ecom%2Fpersonal%2Ftuvalgelvan%5Fcampus%5Ftechnion%5Fac%5Fil%22%2C%22listFullUrl%22%3A%22https%3A%2F%2Ftechnionmail%2Dmy%2Esharepoint%2Ecom%2Fpersonal%2Ftuvalgelvan%5Fcampus%5Ftechnion%5Fac%5Fil%2FDocuments%22%2C%22rootFolder%22%3A%22%2Fpersonal%2Ftuvalgelvan%5Fcampus%5Ftechnion%5Fac%5Fil%2FDocuments%2Fproject%20%2D%20Blood%20Pressure%20Estimation%20with%20a%20Smartwatch%22%7D%2C%22rsi%22%3A%7B%22listFullUrl%22%3A%22https%3A%2F%2Ftechnionmail%2Dmy%2Esharepoint%2Ecom%2Fpersonal%2Fmyair%5Ftechnion%5Fac%5Fil%2FDocuments%22%2C%22rootFolder%22%3A%22%2Fpersonal%2Fmyair%5Ftechnion%5Fac%5Fil%2FDocuments%2Fsemesters%2F2020B%2Fproject%20%2D%20Blood%20Pressure%20Estimation%20with%20a%20Smartwatch%2Fpapers%2Fppg%20quality%22%2C%22webAbsoluteUrl%22%3A%22https%3A%2F%2Ftechnionmail%2Dmy%2Esharepoint%2Ecom%2Fpersonal%2Fmyair%5Ftechnion%5Fac%5Fil%22%7D%7D&id=%2Fpersonal%2Fmyair%5Ftechnion%5Fac%5Fil%2FDocuments%2Fsemesters%2F2020B%2Fproject%20%2D%20Blood%20Pressure%20Estimation%20with%20a%20Smartwatch%2Fpapers%2Fppg%20quality%2F2016%20%2D%20Optimal%20Signal%20Quality%20Index%20for%20Photoplethysmogram%20Signals%2Epdf&parent=%2Fpersonal%2Fmyair%5Ftechnion%5Fac%5Fil%2FDocuments%2Fsemesters%2F2020B%2Fproject%20%2D%20Blood%20Pressure%20Estimation%20with%20a%20Smartwatch%2Fpapers%2Fppg%20quality)**\n",
        "Perfusion ($P_{SQI}$) - the difference of the amount of light\n",
        "absorbed through the pulse of when light is transmitted through the finger. ( gold standard) \\\n",
        "\\\n",
        "$P_{SQI} = [(y_{max} − y_{min})/|x_{mean}|] × 100$ \\\n",
        "\n",
        "---\n",
        "Skeweness ($S_{SQI}$) - measure of the symmetry (or the lack of it)\n",
        "of a probability distribution. \\\n",
        "\\\n",
        "$S_{SQI} = 1/N ∑_{i=1}^{N}[x_i − \\hat{µ}_x/σ]^3$ \\\n",
        "\n",
        "---\n",
        "Kurtosis ($K_{SQI}$) - measure used to describe the distribution of observed\n",
        "data around the mean. \\\n",
        "\\\n",
        "$K_{SQI} = 1/N ∑_{i=1}^{N}[x_i − \\hat{µ}_x/σ]^4$ \\\n",
        "\n",
        "---\n",
        "Entropy ($E_{SQI}$) - Entropy quantifies how much the probability density function (PDF) of the signal differs from a uniform distribution and thus provides a quantitative measure of the uncertainty present in the signal. \\\n",
        "\\\n",
        "$E_{SQI} = −∑_{n=1}^{N}x[n]^2log_e(x[n]^2)$  \\\n",
        "\n",
        "---\n",
        "Zero crossing rate ($Z_{SQI}$) - s the rate of sign-changes in the processed signal, that is, the rate at which the signal changes from positive to negative or back. \\\n",
        "\\\n",
        "$Z_{SQI} =  1/N ∑_{i=1}^{N}I\\{y<0\\}$ \\\n",
        "\n",
        "---\n",
        "Signal-to-noise ratio ($N_{SQI}$) -  measure used in science and engineering that compares the level of a desired signal to the level of background noise. \\\n",
        "\\\n",
        "$N_{SQI} =  \\sigma^2_{signal}/\\sigma^2_{noise}$ \\\n",
        "\n",
        "---\n",
        "Matching of multiple systolic wave detection algorithms ($M_{SQI}$) - Because different PPG algorithms are sensitive to different types of noise, the comparison of how accurately multiple PPG systolic wave detectors isolate each event (such as a beat or noise artifact) provides one estimate of the level of noise in the PPG. The reason for selecting Bing’s and Billauer’s algorithms is that both are easy to implement and each algorithm approaches the PPG signal from different perspectives. \\\n",
        "\\\n",
        "$M_{SQI} = (SBing ∩ SBillauer)/SBing$ \\\n",
        "\n",
        "---\n",
        "Relative power ($R_{SQI}$) -  The frequency domain was explored to assess the PPG signal quality, a different perspective from the time domain features discussed above. Because most of the energy of the systolic and diastolic waves is concentrated within the 1–2.25 Hz frequency\n",
        "band, the ratio of the power spectral density (PSD) in this band compared to the PSD in the overall signal 0–8 Hz provides a measure of the signal quality. \\\n",
        "\\\n",
        "$R_{SQI} = ∑_{f=1}^{2.25}PSD/∑_{f=0}^{8}PSD$ \\\n",
        "\\\n",
        "(calculate PSD with welch method) \\\n",
        "\n",
        "---\n",
        "\n",
        "\n",
        "\n"
      ]
    },
    {
      "cell_type": "code",
      "metadata": {
        "id": "ixE8wUsAvRVN"
      },
      "source": [
        "def calculate_p_sqi(win, y):\n",
        "  x_mean = np.mean(win)\n",
        "  p_sqi = ((np.max(win) - np.min(win))/x_mean)*100\n",
        "  return p_sqi\n",
        "\n",
        "def calculate_s_sqi(win):\n",
        "  mu = np.mean(win)\n",
        "  sigma = np.std(win)\n",
        "  N = len(win)\n",
        "  s_sqi = (np.sum([(x_i - mu/sigma)**3 for x_i in win]))/N\n",
        "  return s_sqi\n",
        "\n",
        "def calculate_k_sqi(win):\n",
        "  mu = np.mean(win)\n",
        "  sigma = np.std(win)\n",
        "  N = len(win)\n",
        "  k_sqi = (np.sum([(x_i - mu/sigma)**4 for x_i in win]))/N\n",
        "  return k_sqi\n",
        "\n",
        "def calculate_e_sqi(win):\n",
        "  x_squared = (win)**2\n",
        "  e_sqi = entropy(x_squared)\n",
        "  return e_sqi\n",
        "\n",
        "def calculate_z_sqi(y):\n",
        "  z_sqi = np.sum(y[y < 0]) / len(y)\n",
        "  return z_sqi\n",
        "\n",
        "def calculate_r_sqi(win):\n",
        "  frequencies, psd = welch(win, record.fs)\n",
        "  for i,f in enumerate(frequencies):\n",
        "    if f < 2.25 and f > 1:\n",
        "      sum1 += psd[i]\n",
        "    if f > 0 and f < 8:\n",
        "      sum2 += psd[i]\n",
        "  r_sqi = sum1/sum2\n",
        "  return r_sqi\n",
        "\n",
        "#add m_sqi, n_sqi"
      ],
      "execution_count": null,
      "outputs": []
    },
    {
      "cell_type": "markdown",
      "metadata": {
        "id": "QpPTMWscasbN"
      },
      "source": [
        "**$P_{SQI}$** \\\n",
        "example of $P_{SQI}$ window calculation"
      ]
    },
    {
      "cell_type": "code",
      "metadata": {
        "id": "MBn7-FDqa63c"
      },
      "source": [
        "p_sqi_list = []\n",
        "win_list = []\n",
        "for i,win in enumerate(ppg_windows):\n",
        "  \n",
        "  y = win - np.mean(win)\n",
        "\n",
        "  if not np.count_nonzero(np.isnan(win)):\n",
        "    p_sqi = calculate_p_sqi(win,y)\n",
        "    p_sqi_list.append(p_sqi)\n",
        "    win_list.append(win)\n",
        "  \n",
        "print(p_sqi_list)\n",
        "max_index = np.argmax(p_sqi_list)\n",
        "min_index = np.argmin(p_sqi_list)\n",
        "print(p_sqi_list[max_index], p_sqi_list[min_index])\n",
        "\n",
        "x = np.linspace(0, window_in_sec, len(win_list[max_index]))\n",
        "fig, axs = plt.subplots(2)\n",
        "fig.suptitle('$P_{sqi}$')\n",
        "axs[0].plot(x, win_list[max_index])\n",
        "axs[1].plot(x, win_list[min_index])\n",
        "axs[0].set(xlabel='Time [sec]', ylabel='PLETH [NU]')\n",
        "axs[1].set(xlabel='Time [sec]', ylabel='PLETH [NU]')"
      ],
      "execution_count": null,
      "outputs": []
    },
    {
      "cell_type": "markdown",
      "metadata": {
        "id": "yMeS2gpDa-Rn"
      },
      "source": [
        "**$S_{SQI}$** \\\n",
        "example of $S_{SQI}$ window calculation"
      ]
    },
    {
      "cell_type": "code",
      "metadata": {
        "id": "oMKjXsxibPm5"
      },
      "source": [
        "s_sqi_list = []\n",
        "win_list = []\n",
        "for i,win in enumerate(ppg_windows):\n",
        "  if not np.count_nonzero(np.isnan(win)):\n",
        "    s_sqi = calculate_s_sqi(win)\n",
        "    s_sqi_list.append(s_sqi)\n",
        "    win_list.append(win)\n",
        "  \n",
        "print(s_sqi_list)\n",
        "max_index = np.argmax(s_sqi_list)\n",
        "min_index = np.argmin(s_sqi_list)\n",
        "print(s_sqi_list[max_index], s_sqi_list[min_index])\n",
        "\n",
        "x = np.linspace(0, window_in_sec, len(win_list[max_index]))\n",
        "fig, axs = plt.subplots(2)\n",
        "fig.suptitle('$S_{sqi}$')\n",
        "axs[0].plot(x, win_list[max_index])\n",
        "axs[1].plot(x, win_list[min_index])\n",
        "axs[0].set(xlabel='Time [sec]', ylabel='PLETH [NU]')\n",
        "axs[1].set(xlabel='Time [sec]', ylabel='PLETH [NU]')"
      ],
      "execution_count": null,
      "outputs": []
    },
    {
      "cell_type": "markdown",
      "metadata": {
        "id": "cUcirhNnmlN2"
      },
      "source": [
        "**$E_{SQI}$** \\\n",
        "example of $E_{SQI}$ window calculation"
      ]
    },
    {
      "cell_type": "code",
      "metadata": {
        "id": "uDcxECq_m-st"
      },
      "source": [
        "e_sqi_list = []\n",
        "win_list = []\n",
        "for i,win in enumerate(ppg_windows):\n",
        "  if not np.count_nonzero(np.isnan(win)):\n",
        "    e_sqi = calculate_e_sqi(win)\n",
        "    e_sqi_list.append(e_sqi)\n",
        "    win_list.append(win)\n",
        "  \n",
        "print(e_sqi_list)\n",
        "max_index = np.argmax(e_sqi_list)\n",
        "min_index = np.argmin(e_sqi_list)\n",
        "print(e_sqi_list[max_index], e_sqi_list[min_index])\n",
        "\n",
        "x = np.linspace(0, window_in_sec, len(win_list[max_index]))\n",
        "fig, axs = plt.subplots(2)\n",
        "fig.suptitle('$E_{sqi}$')\n",
        "axs[0].plot(x, win_list[max_index])\n",
        "axs[1].plot(x, win_list[min_index])\n",
        "axs[0].set(xlabel='Time [sec]', ylabel='PLETH [NU]')\n",
        "axs[1].set(xlabel='Time [sec]', ylabel='PLETH [NU]')\n"
      ],
      "execution_count": null,
      "outputs": []
    },
    {
      "cell_type": "markdown",
      "metadata": {
        "id": "OArbMBlCpBAn"
      },
      "source": [
        "#### **Signal-Quality Indices for the Electrocardiogram and Photoplethysmogram: Derivation and Applications to Wireless Monitoring**\n",
        "\n",
        "1) Rule 1: The HR extrapolated from the 10-s sample must\n",
        "be between 40 and 180 beats per minute (bpm). (Though\n",
        "it is theoretically possible to have HRs outside of these\n",
        "values, this is the physiologically probable range of HR\n",
        "for the adult population likely to use wearable sensors.)\n",
        "2) Rule 2: The maximum acceptable gap between successive\n",
        "R-peaks/PPG pulse-peaks is 3 s. (This rule ensures no\n",
        "more than one beat is missed.)\n",
        "3) Rule 3: The ratio of the maximum beat-to-beat interval\n",
        "to the minimum beat-to-beat interval within the sample\n",
        "should be less than 2.2. (This is a conservative limit since\n",
        "we would not expect the HR to change by more than 10%\n",
        "in a 10-s sample. We use a limit of 2.2 to allow for a single\n",
        "missed beat.) \\\n",
        "\n",
        "![image.png](data:image/png;base64,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)\n"
      ]
    },
    {
      "cell_type": "markdown",
      "metadata": {
        "id": "i8fFREUOU6-Q"
      },
      "source": [
        "**Make sample class from windows**"
      ]
    },
    {
      "cell_type": "code",
      "metadata": {
        "id": "rkoYHRGUVH7c"
      },
      "source": [
        "import pickle\n",
        "import posixpath\n",
        "import numpy as np\n",
        "import pandas as pd\n",
        "import os\n",
        "import wfdb\n",
        "import copy\n",
        "import os\n",
        "import shutil\n",
        "import posixpath\n",
        "import matplotlib\n",
        "import pandas as pd\n",
        "import requests\n",
        "import wfdb\n",
        "from wfdb.io import download\n",
        "import matplotlib.pyplot as plt\n",
        "from scipy.signal import find_peaks, welch\n",
        "from scipy.stats import entropy\n",
        "import tqdm\n",
        "import time\n",
        "from scipy import signal\n",
        "from scipy.fft import fftshift\n",
        "from multiprocessing import Pool\n",
        "\n",
        "squered_magnitude_threshold = 200\n",
        "window_in_sec = 30\n",
        "frequency_end = 12\n",
        "frequency_start = 0\n",
        "stft_window_size = 750\n",
        "\n",
        "\n",
        "class Sample:\n",
        "\n",
        "    def __init__(self, window, systolic_bp, diastolic_bp, bp_index, ppg_index):\n",
        "        self.window = window\n",
        "        self.systolic_bp = systolic_bp\n",
        "        self.diastolic_bp = diastolic_bp\n",
        "        self.bp_index = bp_index\n",
        "        self.ppg_index = ppg_index\n",
        "        self.squared_magnitude_ppg = None\n",
        "        self.window_number = None\n",
        "\n",
        "\n",
        "def load_records(records_path):\n",
        "    records = []\n",
        "    # traverse root directory, and list directories as dirs and files as files\n",
        "    print(\"loading records...\")\n",
        "    for root, dirs, files in tqdm.tqdm(os.walk(records_path)):\n",
        "        path = root.split(os.sep)\n",
        "        # print(root)\n",
        "        # print((len(path) - 1) * '---', os.path.basename(root))\n",
        "        for file in files:\n",
        "            # print(len(path) * '---', file)\n",
        "            with open(f'{posixpath.join(root, file)}', 'rb') as f:\n",
        "                record = pickle.load(f)\n",
        "                records.append(record)\n",
        "    print(\"loading records done\")\n",
        "    return records\n",
        "\n",
        "\n",
        "def print_records(records):\n",
        "    print(\"The records are:\")\n",
        "    for record in records:\n",
        "        print(record.record_name)\n",
        "\n",
        "    print(f\"Number of records: {len(records)}\")\n",
        "\n",
        "\n",
        "# remove files without relevant PPG and ABP\n",
        "def remove_unrelevant_records(records):\n",
        "    filtered_records = []\n",
        "\n",
        "    # remove file names without relevant data\n",
        "    for record in records:\n",
        "        if record.record_name[-1] != 'n':\n",
        "            filtered_records.append(record)\n",
        "\n",
        "    return filtered_records\n",
        "\n",
        "\n",
        "def record_to_windows(record):\n",
        "    start_point = 0\n",
        "    fs = record.fs\n",
        "    end_point = start_point + (window_in_sec * fs)\n",
        "    window_overlap = window_in_sec / 2\n",
        "    new_samples_per_step = np.int(window_overlap * fs)\n",
        "    record_windows = []\n",
        "\n",
        "    while end_point < record.sig_len:\n",
        "        p_signal = record.p_signal[start_point:end_point]\n",
        "        window = copy.copy(record)\n",
        "        window.p_signal = p_signal\n",
        "        window.sig_len = end_point - start_point\n",
        "        start_point += new_samples_per_step\n",
        "        end_point += new_samples_per_step\n",
        "        record_windows.append(window)\n",
        "\n",
        "    return record_windows\n",
        "\n",
        "\n",
        "def records_to_windows(records):\n",
        "    windows = []\n",
        "    for record in records:\n",
        "        record_windows = record_to_windows(record)\n",
        "        windows.append(record_windows)\n",
        "\n",
        "    windows = np.concatenate(windows)\n",
        "    return windows\n",
        "\n",
        "\n",
        "def print_window(window):\n",
        "    window_in_sec = window.sig_len / window.fs\n",
        "    x = np.linspace(0, window_in_sec, window.sig_len)\n",
        "\n",
        "    fig, axs = plt.subplots(2)\n",
        "    fig.suptitle('30 Seconds Window signal')\n",
        "    axs[0].plot(x, window.p_signal[:, 0])\n",
        "    axs[1].plot(x, window.p_signal[:, 1])\n",
        "    axs[1].set(xlabel='Time [sec]', ylabel='ABP [mmHg]')\n",
        "    axs[0].set(xlabel='Time [sec]', ylabel='PLETH [NU]')\n",
        "    plt.show()\n",
        "\n",
        "\n",
        "def bp_detection(signal):\n",
        "    max_peaks, _ = find_peaks(signal)\n",
        "    min_peaks, _ = find_peaks(-signal)\n",
        "    systolic_bp, diastolic_bp = 0, 0\n",
        "\n",
        "    if len(max_peaks) != 0:\n",
        "        sys_peaks = max_peaks[signal[max_peaks] >= np.mean(signal[max_peaks])]\n",
        "        if len(sys_peaks) != 0:\n",
        "            systolic_bp = np.mean(signal[sys_peaks])\n",
        "\n",
        "    if len(min_peaks) != 0:\n",
        "        dias_peaks = min_peaks[signal[min_peaks] <= np.mean(signal[min_peaks])]\n",
        "        if len(dias_peaks) != 0:\n",
        "            diastolic_bp = np.mean(signal[dias_peaks])\n",
        "\n",
        "    return systolic_bp, diastolic_bp\n",
        "\n",
        "\n",
        "def sample_bp_valid(sample):\n",
        "    # remove windows that not in valid range\n",
        "    if sample.systolic_bp > 185 or sample.systolic_bp < 55 or sample.diastolic_bp < 30 or sample.diastolic_bp > 120:\n",
        "        return False\n",
        "\n",
        "    return True\n",
        "\n",
        "\n",
        "def bp_filter(windows):\n",
        "    samples = []\n",
        "    bp_index = windows[0].sig_name.index('ABP')\n",
        "    ppg_index = windows[0].sig_name.index('PLETH')\n",
        "    for window in windows:\n",
        "        if window_valid(window, bp_index, ppg_index):\n",
        "            bp_signal = window.p_signal[:, bp_index]\n",
        "            bp_signal = np.array(bp_signal)\n",
        "            systolic_bp, diastolic_bp = bp_detection(bp_signal)\n",
        "            sample = Sample(window, systolic_bp, diastolic_bp, bp_index, ppg_index)\n",
        "            if sample_bp_valid(sample):\n",
        "                samples.append(sample)\n",
        "\n",
        "    return samples\n",
        "\n",
        "\n",
        "def window_valid(window, bp_index, ppg_index):\n",
        "    bp_signal = window.p_signal[:, bp_index]\n",
        "    ppg_signal = window.p_signal[:, ppg_index]\n",
        "    # remove windows with nan values\n",
        "    if np.count_nonzero(np.isnan(ppg_signal)) or np.count_nonzero(np.isnan(bp_signal)):\n",
        "        return False\n",
        "\n",
        "    return True\n",
        "\n",
        "\n",
        "def squared_magnitude_ppg_detection(ppg_signal):\n",
        "    ppg_centered = ppg_signal - np.mean(ppg_signal)\n",
        "    ppg_corr = np.correlate(ppg_centered, ppg_centered, 'full')\n",
        "    if ppg_corr[3750] != 0:\n",
        "        ppg_corr_norm = ppg_corr / ppg_corr[3750]\n",
        "        ppg_corr_norm = ppg_corr_norm[len(ppg_signal):]\n",
        "        squared_magnitude_ppg = np.sum(np.power(ppg_corr_norm, 2))\n",
        "    else:\n",
        "        squared_magnitude_ppg = 0\n",
        "\n",
        "    return squared_magnitude_ppg\n",
        "\n",
        "\n",
        "def ppg_filter(samples):\n",
        "    filtered_samples = []\n",
        "    for sample in samples:\n",
        "        ppg_signal = sample.window.p_signal[:, sample.ppg_index]\n",
        "        sample.squared_magnitude_ppg = squared_magnitude_ppg_detection(ppg_signal)\n",
        "        if sample.squared_magnitude_ppg > squered_magnitude_threshold:\n",
        "            filtered_samples.append(sample)\n",
        "\n",
        "    return filtered_samples\n",
        "\n",
        "\n",
        "def save_sample(sample):\n",
        "    ppg_signal = sample.window.p_signal[:, sample.ppg_index]\n",
        "    fs = sample.window.fs\n",
        "    noverlap = 0.96 * stft_window_size\n",
        "    plt.specgram(ppg_signal, Fs=fs, scale='dB', NFFT=stft_window_size, noverlap=noverlap)\n",
        "    plt.axis(ymin=frequency_start, ymax=frequency_end)\n",
        "    dir_path = f\"Data/{sample.window.record_name}\"\n",
        "    if not os.path.isdir(dir_path):\n",
        "        os.makedirs(dir_path)\n",
        "    plt.savefig(f\"Data/{sample.window.record_name}/\"\n",
        "                f\"{sample.window.record_name}_{sample.window_number}_{sample.systolic_bp}_{sample.diastolic_bp}.png\")\n",
        "    plt.close()\n",
        "\n",
        "\n",
        "def samples_to_spectograms(samples):\n",
        "    print(\"saving images..\")\n",
        "    pool = Pool()\n",
        "    for _ in tqdm.tqdm(pool.imap(func=save_sample, iterable=samples), total=len(samples)):\n",
        "        pass\n",
        "\n",
        "    print(\"images saving done\")\n",
        "\n",
        "\n",
        "def get_window_numbers(samples):\n",
        "    window_number = 0\n",
        "    last_record_name = samples[0].window.record_name\n",
        "    for sample in samples:\n",
        "        sample.window_number = window_number\n",
        "        window_number += 1\n",
        "        if last_record_name != sample.window.record_name:\n",
        "            window_number = 0\n",
        "        last_record_name = sample.window.record_name\n",
        "\n",
        "    return samples\n",
        "\n",
        "\n",
        "def main():\n",
        "    records_path = 'mimic3wdb'\n",
        "    # records_path = '../../../Test_data'\n",
        "    records = load_records(records_path)\n",
        "    # print_records(records)\n",
        "    filtered_records = remove_unrelevant_records(records)\n",
        "    # print_records(filtered_records)\n",
        "    windows = records_to_windows(filtered_records)\n",
        "    # print_window(windows[200])\n",
        "    filtered_bp_samples = bp_filter(windows)\n",
        "    # print_window(filtered_bp_samples[2].window)\n",
        "    filtered_ppg_samples = ppg_filter(filtered_bp_samples)\n",
        "    # print_window(filtered_ppg_samples[5].window)\n",
        "    samples = get_window_numbers(filtered_ppg_samples)\n",
        "    samples_to_spectograms(samples)\n",
        "    print(\n",
        "        f\"Num Windows (30 sec): {len(windows)}, After bp filter: {len(filtered_bp_samples)}, After ppg filter: {len(filtered_ppg_samples)}\")\n",
        "\n",
        "\n",
        "if __name__ == \"__main__\":\n",
        "    main()"
      ],
      "execution_count": null,
      "outputs": []
    },
    {
      "cell_type": "markdown",
      "metadata": {
        "id": "7LbSUlOkXEKe"
      },
      "source": [
        "**Load Data**"
      ]
    },
    {
      "cell_type": "code",
      "metadata": {
        "id": "pgFxTB79XGvx"
      },
      "source": [
        "import os\n",
        "import posixpath\n",
        "\n",
        "import cv2\n",
        "import numpy as np\n",
        "import pandas as pd\n",
        "import matplotlib.pyplot as plt\n",
        "import torch\n",
        "import torch.nn as nn\n",
        "import torchvision\n",
        "import tqdm\n",
        "from torch.autograd import Variable\n",
        "from torchvision import datasets, models, transforms\n",
        "\n",
        "\n",
        "class Data:\n",
        "\n",
        "    def __init__(self, images_train, images_val, images_test, dias_bp_list_train, dias_bp_list_val,\n",
        "               dias_bp_list_test,sys_bp_list_train, sys_bp_list_val, sys_bp_list_test):\n",
        "        self.images_train = images_train\n",
        "        self.images_val = images_val\n",
        "        self.images_test = images_test\n",
        "        self.dias_bp_train = dias_bp_list_train\n",
        "        self.dias_bp_val = dias_bp_list_val\n",
        "        self.dias_bp_test = dias_bp_list_test\n",
        "        self.sys_bp_train = sys_bp_list_train\n",
        "        self.sys_bp_val = sys_bp_list_val\n",
        "        self.sys_bp_test = sys_bp_list_test\n",
        "\n",
        "\n",
        "def load_data(data_path):\n",
        "    # traverse root directory, and list directories as dirs and files as files\n",
        "    print(\"loading images...\")\n",
        "    # data = Data()\n",
        "    images_list = []\n",
        "    sys_bp_list = []\n",
        "    dias_bp_list = []\n",
        "    for root, dirs, images in tqdm.tqdm(os.walk(data_path)):\n",
        "        path = root.split(os.sep)\n",
        "        for image_name in images:\n",
        "            image = cv2.imread(posixpath.join(root, image_name))\n",
        "            image = cv2.resize(image, (110, 110))\n",
        "            # image = np.asarray(image)\n",
        "            # normalized_image = (image - np.mean(image)) / np.std(image)\n",
        "            # normalized_image = torch.tensor(normalized_image.T).view(1, 4, 640, 480)\n",
        "            # normalized_image = normalized_image.to(device=device, dtype=torch.float)\n",
        "            # normalized_image = Variable(normalized_image.cuda(device))\n",
        "            name = image_name.split('_')\n",
        "            # name example: 3000063_0025_1_124.32324334151441_60.60244138052165.png\n",
        "            systolic_bp = np.float64(name[3])\n",
        "            diastolic_bp = np.float64(name[4][:-4])\n",
        "            # data.add_image(image, image_name, systolic_bp, diastolic_bp)\n",
        "            images_list.append(image)\n",
        "            sys_bp_list.append(systolic_bp)\n",
        "            dias_bp_list.append(diastolic_bp)\n",
        "\n",
        "    print(\"loading images done\")\n",
        "    images_list = np.asarray(images_list)\n",
        "    sys_bp_list = np.asarray(sys_bp_list)\n",
        "    dias_bp_list = np.asarray(dias_bp_list)\n",
        "    return images_list, sys_bp_list, dias_bp_list\n",
        "\n",
        "\n",
        "def split_data(images_list, sys_bp_list, dias_bp_list):\n",
        "\n",
        "\n",
        "    n_samples = images_list.shape[0]  # The total number of samples in the dataset\n",
        "\n",
        "    # Generate a random generator with a fixed seed\n",
        "    rand_gen = np.random.RandomState(0)\n",
        "\n",
        "    # Generating a shuffled vector of indices\n",
        "    indices = np.arange(n_samples)\n",
        "    rand_gen.shuffle(indices)\n",
        "\n",
        "    # Split the indices into 60% train / 20% validation / 20% test\n",
        "    n_samples_train = int(n_samples * 0.6)\n",
        "    n_samples_val = n_samples_train + int(n_samples * 0.2)\n",
        "    train_indices = indices[:n_samples_train]\n",
        "    val_indices = indices[n_samples_train:n_samples_val]\n",
        "    test_indices = indices[n_samples_val:]\n",
        "\n",
        "    # Extract the sub datasets from the full dataset using the calculated indices\n",
        "\n",
        "    images_train = images_list[train_indices]\n",
        "    dias_bp_list_train = dias_bp_list[train_indices]\n",
        "    sys_bp_list_train = sys_bp_list[train_indices]\n",
        "    images_val = images_list[val_indices]\n",
        "    dias_bp_list_val = dias_bp_list[val_indices]\n",
        "    sys_bp_list_val = sys_bp_list[val_indices]\n",
        "    images_test = images_list[test_indices]\n",
        "    dias_bp_list_test = dias_bp_list[test_indices]\n",
        "    sys_bp_list_test = sys_bp_list[test_indices]\n",
        "\n",
        "    data = Data(images_train, images_val, images_test, dias_bp_list_train,dias_bp_list_val,\n",
        "               dias_bp_list_test,sys_bp_list_train, sys_bp_list_val, sys_bp_list_test)\n",
        "    return data\n",
        "\n",
        "\n",
        "def print_some_images(images):\n",
        "    print('Number of images in the dataset: {}'.format(len(images)))\n",
        "    print('Each images size is: {}'.format(images.shape[1:]))\n",
        "    print('These are the first 4 images:')\n",
        "    fig, ax_array = plt.subplots(2, 2)\n",
        "    for i, ax in enumerate(ax_array.flat):\n",
        "        ax.imshow(images[i], cmap='gray')\n",
        "        ax.set_yticks([])\n",
        "        ax.set_xticks([])\n",
        "    plt.show()\n",
        "\n",
        "def get_device():\n",
        "    # load torch\n",
        "    print(\"torch version:\", torch.__version__)\n",
        "    if torch.cuda.is_available():\n",
        "        print(\"cuda version:\", torch.version.cuda)\n",
        "        device = torch.device('cuda:0')\n",
        "        torch.cuda.empty_cache()\n",
        "        print(\"run on GPU.\")\n",
        "    else:\n",
        "        device = torch.device('cpu')\n",
        "        print(\"no cuda GPU available\")\n",
        "        print(\"run on CPU\")\n",
        "    return device\n",
        "\n",
        "\n",
        "\n",
        "data_path = 'Data'\n",
        "# device = get_device()\n",
        "images_list, sys_bp_list, dias_bp_list = load_data(data_path)\n",
        "data = split_data(images_list, sys_bp_list, dias_bp_list)\n",
        "print_some_images(data.images_train)"
      ],
      "execution_count": null,
      "outputs": []
    },
    {
      "cell_type": "markdown",
      "metadata": {
        "id": "LSd04p9iae6a"
      },
      "source": [
        "**ResNet18 Training**"
      ]
    },
    {
      "cell_type": "code",
      "metadata": {
        "id": "LK_fJjHqZjmK"
      },
      "source": [
        "import numpy as np\n",
        "import pandas as pd\n",
        "import matplotlib.pyplot as plt\n",
        "import torch\n",
        "import torch.nn as nn\n",
        "import torchvision\n",
        "from torchvision import datasets, models, transforms\n",
        "\n",
        "## Set some default values of the the matplotlib plots\n",
        "plt.rcParams['figure.figsize'] = (8.0, 8.0)  # Set default plot's sizes\n",
        "plt.rcParams['axes.grid'] = True  # Show grid by default in figures\n",
        "\n",
        "'''\n",
        "Example for CNN module:\n",
        "class CNN(torch.nn.Module):\n",
        "    def __init__(self, in_features, out_features):\n",
        "        super(CNN, self).__init__()\n",
        "        ## Defining the convolutional and fully connected layers with their parameters\n",
        "        ## ===========================================================================\n",
        "        self.conv1 = torch.nn.Conv2d(in_channels=1, out_channels=64, kernel_size=3, padding=1)\n",
        "        self.conv2 = torch.nn.Conv2d(in_channels=64, out_channels=64, kernel_size=3, stride=2, padding=1)\n",
        "        self.fc3 = torch.nn.Linear(in_features=256 * 2 * 2, out_features=256, bias=True)\n",
        "        self.fc4 = torch.nn.Linear(in_features=256, out_features=10, bias=True)\n",
        "    def forward(self, x):\n",
        "        x = x[:, None, :, :]\n",
        "        z = self.conv1(x)\n",
        "        z = torch.nn.functional.relu(z)\n",
        "        z = self.conv2(z)\n",
        "        z = torch.nn.functional.relu(z)\n",
        "        z = z.view(z.shape[0], -1)\n",
        "        z = self.fc3(z)\n",
        "        z = torch.nn.functional.relu(z)\n",
        "        z = self.fc4(z)\n",
        "        y = torch.nn.functional.log_softmax(z, dim=1)\n",
        "        return y\n",
        "'''\n",
        "\n",
        "\n",
        "def train(model, learning_rate, n_epochs, train_loader, x_val, y_val, optimizer, criterion):\n",
        "    ## Move validation set to the GPU\n",
        "    x_val = x_val.cuda()\n",
        "    y_val = y_val.cuda()\n",
        "\n",
        "    ## Prepare lists to store intermediate obejectives\n",
        "    train_objective_list = [np.inf]\n",
        "    val_objective_list = [np.inf]\n",
        "\n",
        "    ## Run for n_epochs\n",
        "    for epoch in tqdm.tqdm(range(n_epochs)):\n",
        "        ## Run over the batches\n",
        "        for x, y in train_loader:  # forward\n",
        "            outputs = torch.squeeze(model(x))\n",
        "            # loss\n",
        "            loss = criterion(outputs, y)\n",
        "            ## Move batch to GPU\n",
        "            x = x.cuda()\n",
        "            y = y.cuda()\n",
        "\n",
        "            # start training\n",
        "            optimizer.zero_grad()\n",
        "            # forward\n",
        "            outputs = torch.squeeze(model(x))\n",
        "            # loss\n",
        "            loss = criterion(outputs, y)\n",
        "            # backward\n",
        "            loss.backward()\n",
        "            optimizer.step()\n",
        "\n",
        "        ## Evaluate the objective on the validation set\n",
        "        with torch.no_grad():  ## This tell PyTorch not to calculate the gradients to save time\n",
        "            train_objective_list.append(loss.item())\n",
        "            # forward\n",
        "            outputs = torch.squeeze(model(x))\n",
        "            # loss\n",
        "            loss = criterion(outputs, y)\n",
        "            val_objective_list.append(loss.item())\n",
        "\n",
        "    return train_objective_list, val_objective_list\n",
        "\n",
        "\n",
        "def fine_tuning(model, optimizer, criterion):\n",
        "    n_epochs = 20\n",
        "    etas_list = (1e-1, 3e-2, 1e-2, 3e-3)\n",
        "\n",
        "    fig, axes = plt.subplots(2, 2, figsize=(6, 6))\n",
        "    for i_eta, eta in enumerate(etas_list):\n",
        "        train_objective_list, val_objective_list = train(model, eta, n_epochs, train_loader,\n",
        "                                                         torch.tensor(x_val).float(),\n",
        "                                                         torch.tensor(y_val).long(),\n",
        "                                                         optimizer,\n",
        "                                                         criterion)\n",
        "\n",
        "        ## Plot\n",
        "        ax = axes.flat[i_eta]\n",
        "        ax.plot(np.arange(len(train_objective_list)), train_objective_list, label='Train')\n",
        "        ax.plot(np.arange(len(val_objective_list)), val_objective_list, label='Validation')\n",
        "        ax.set_title(r'$\\eta={' + f'{eta:g}' + r'}$')\n",
        "        ax.set_xlabel('Step')\n",
        "        ax.set_ylabel('Objective')\n",
        "    axes[1, 1].legend()\n",
        "    fig.tight_layout()\n",
        "\n",
        "\n",
        "def train_resnet_module(model, train_loader, x_val, y_val, optimizer, criterion):\n",
        "    n_epochs = 10\n",
        "\n",
        "    train_objective_list, val_objective_list = train(model, learning_rate, n_epochs, train_loader,\n",
        "                                                     torch.tensor(x_val).float(),\n",
        "                                                     torch.tensor(y_val).long(),\n",
        "                                                     optimizer,\n",
        "                                                     criterion)\n",
        "\n",
        "    ## Plot\n",
        "    fig, ax = plt.subplots(figsize=(5, 5))\n",
        "    ax.plot(np.arange(len(train_objective_list)), train_objective_list, label='Train')\n",
        "    ax.plot(np.arange(len(val_objective_list)), val_objective_list, label='Validation')\n",
        "    ax.set_title(r'$\\eta={' + f'{eta:g}' + r'}$')\n",
        "    ax.set_xlabel('Step')\n",
        "    ax.set_ylabel('Objective')\n",
        "\n",
        "    return model\n",
        "\n",
        "\n",
        "def prepare_data(x_train, y_train):\n",
        "    batch_size = 64\n",
        "    train_set = torch.utils.data.TensorDataset(torch.tensor(x_train).float(), torch.tensor(y_train).long())\n",
        "    train_loader = torch.utils.data.DataLoader(dataset=train_set, batch_size=batch_size, shuffle=True)\n",
        "\n",
        "    return train_loader\n"
      ],
      "execution_count": null,
      "outputs": []
    },
    {
      "cell_type": "code",
      "metadata": {
        "id": "HZ7ZaminhhUS"
      },
      "source": [
        "#create model\n",
        "model = models.resnet18(pretrained=True)\n",
        "out_channels = model.conv1.out_channels\n",
        "kernel_size = model.conv1.kernel_size\n",
        "padding = model.conv1.padding\n",
        "model.conv1 = nn.Conv2d(in_channels=110, out_channels=out_channels, kernel_size=kernel_size, padding=padding)\n",
        "model = model.cuda()\n",
        "\n",
        "## set optimizer and criterion\n",
        "learning_rate = 0.01\n",
        "optimizer = torch.optim.Adam(model.parameters(), lr=learning_rate)\n",
        "criterion = nn.L1Loss()"
      ],
      "execution_count": null,
      "outputs": []
    },
    {
      "cell_type": "markdown",
      "metadata": {
        "id": "5tRqFDM2al6b"
      },
      "source": [
        "**Diastolic training**"
      ]
    },
    {
      "cell_type": "code",
      "metadata": {
        "id": "7bN7qhksalc9"
      },
      "source": [
        "train_loader = prepare_data(data.images_train, data.dias_bp_train)\n",
        "dias_model = train_resnet_module(model, train_loader, data.images_val, data.dias_bp_val, optimizer, criterion)\n",
        "fine_tuning(dias_model, optimizer, criterion)"
      ],
      "execution_count": null,
      "outputs": []
    },
    {
      "cell_type": "markdown",
      "metadata": {
        "id": "o7s_QS1LaqB3"
      },
      "source": [
        "**Systloic training**"
      ]
    },
    {
      "cell_type": "code",
      "metadata": {
        "id": "QWiVCFFtapl1"
      },
      "source": [
        "train_loader = prepare_data(data.images_train, data.sys_bp_train)\n",
        "sys_model = train_resnet_module(model, train_loader, data.images_val, data.sys_bp_val, optimizer, criterion)\n",
        "fine_tuning(sys_model)"
      ],
      "execution_count": null,
      "outputs": []
    }
  ]
}