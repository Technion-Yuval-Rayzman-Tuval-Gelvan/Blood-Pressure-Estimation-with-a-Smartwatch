{
  "nbformat": 4,
  "nbformat_minor": 0,
  "metadata": {
    "colab": {
      "name": "Untitled0.ipynb",
      "provenance": [],
      "authorship_tag": "ABX9TyMdGKg9Uk1xhyFuK8gIrIsc",
      "include_colab_link": true
    },
    "kernelspec": {
      "name": "python3",
      "display_name": "Python 3"
    },
    "language_info": {
      "name": "python"
    }
  },
  "cells": [
    {
      "cell_type": "markdown",
      "metadata": {
        "id": "view-in-github",
        "colab_type": "text"
      },
      "source": [
        "<a href=\"https://colab.research.google.com/github/Tuval198/Blood-Pressure-Estimation-with-a-Smartwatch/blob/main/mimic3download.ipynb\" target=\"_parent\"><img src=\"https://colab.research.google.com/assets/colab-badge.svg\" alt=\"Open In Colab\"/></a>"
      ]
    },
    {
      "cell_type": "code",
      "metadata": {
        "colab": {
          "base_uri": "https://localhost:8080/"
        },
        "id": "9kpHGZtuOhTk",
        "outputId": "4ae7cef6-f70a-4bb2-b1cd-041bac16bd83"
      },
      "source": [
        "pip install wfdb"
      ],
      "execution_count": null,
      "outputs": [
        {
          "output_type": "stream",
          "text": [
            "Collecting wfdb\n",
            "\u001b[?25l  Downloading https://files.pythonhosted.org/packages/ee/28/21d6924727ff45c1ab0182d384e470fa5d1e985349528c4b807587b5da59/wfdb-3.4.0-py3-none-any.whl (137kB)\n",
            "\r\u001b[K     |██▍                             | 10kB 15.7MB/s eta 0:00:01\r\u001b[K     |████▊                           | 20kB 19.7MB/s eta 0:00:01\r\u001b[K     |███████▏                        | 30kB 15.9MB/s eta 0:00:01\r\u001b[K     |█████████▌                      | 40kB 13.8MB/s eta 0:00:01\r\u001b[K     |████████████                    | 51kB 8.0MB/s eta 0:00:01\r\u001b[K     |██████████████▎                 | 61kB 7.9MB/s eta 0:00:01\r\u001b[K     |████████████████▊               | 71kB 8.7MB/s eta 0:00:01\r\u001b[K     |███████████████████             | 81kB 9.1MB/s eta 0:00:01\r\u001b[K     |█████████████████████▍          | 92kB 9.1MB/s eta 0:00:01\r\u001b[K     |███████████████████████▉        | 102kB 7.6MB/s eta 0:00:01\r\u001b[K     |██████████████████████████▏     | 112kB 7.6MB/s eta 0:00:01\r\u001b[K     |████████████████████████████▋   | 122kB 7.6MB/s eta 0:00:01\r\u001b[K     |███████████████████████████████ | 133kB 7.6MB/s eta 0:00:01\r\u001b[K     |████████████████████████████████| 143kB 7.6MB/s \n",
            "\u001b[?25hRequirement already satisfied: requests>=2.8.1 in /usr/local/lib/python3.7/dist-packages (from wfdb) (2.23.0)\n",
            "Requirement already satisfied: certifi>=2016.8.2 in /usr/local/lib/python3.7/dist-packages (from wfdb) (2020.12.5)\n",
            "Requirement already satisfied: pandas>=0.17.0 in /usr/local/lib/python3.7/dist-packages (from wfdb) (1.1.5)\n",
            "Requirement already satisfied: python-dateutil>=2.4.2 in /usr/local/lib/python3.7/dist-packages (from wfdb) (2.8.1)\n",
            "Requirement already satisfied: matplotlib>=2.0.0 in /usr/local/lib/python3.7/dist-packages (from wfdb) (3.2.2)\n",
            "Requirement already satisfied: urllib3>=1.22 in /usr/local/lib/python3.7/dist-packages (from wfdb) (1.24.3)\n",
            "Requirement already satisfied: numpy>=1.10.1 in /usr/local/lib/python3.7/dist-packages (from wfdb) (1.19.5)\n",
            "Collecting threadpoolctl>=1.0.0\n",
            "  Downloading https://files.pythonhosted.org/packages/f7/12/ec3f2e203afa394a149911729357aa48affc59c20e2c1c8297a60f33f133/threadpoolctl-2.1.0-py3-none-any.whl\n",
            "Requirement already satisfied: scikit-learn>=0.18 in /usr/local/lib/python3.7/dist-packages (from wfdb) (0.22.2.post1)\n",
            "Requirement already satisfied: pyparsing>=2.0.4 in /usr/local/lib/python3.7/dist-packages (from wfdb) (2.4.7)\n",
            "Requirement already satisfied: joblib>=0.11 in /usr/local/lib/python3.7/dist-packages (from wfdb) (1.0.1)\n",
            "Requirement already satisfied: idna>=2.2 in /usr/local/lib/python3.7/dist-packages (from wfdb) (2.10)\n",
            "Requirement already satisfied: chardet>=3.0.0 in /usr/local/lib/python3.7/dist-packages (from wfdb) (3.0.4)\n",
            "Requirement already satisfied: kiwisolver>=1.1.0 in /usr/local/lib/python3.7/dist-packages (from wfdb) (1.3.1)\n",
            "Requirement already satisfied: pytz>=2017.2 in /usr/local/lib/python3.7/dist-packages (from wfdb) (2018.9)\n",
            "Requirement already satisfied: cycler>=0.10.0 in /usr/local/lib/python3.7/dist-packages (from wfdb) (0.10.0)\n",
            "Requirement already satisfied: scipy>=0.17.0 in /usr/local/lib/python3.7/dist-packages (from wfdb) (1.4.1)\n",
            "Requirement already satisfied: six>=1.5 in /usr/local/lib/python3.7/dist-packages (from python-dateutil>=2.4.2->wfdb) (1.15.0)\n",
            "Installing collected packages: threadpoolctl, wfdb\n",
            "Successfully installed threadpoolctl-2.1.0 wfdb-3.4.0\n"
          ],
          "name": "stdout"
        }
      ]
    },
    {
      "cell_type": "code",
      "metadata": {
        "id": "O2TOSK8RPdv7"
      },
      "source": [
        "from IPython.display import display\n",
        "import matplotlib.pyplot as plt\n",
        "%matplotlib inline\n",
        "import numpy as np\n",
        "import os\n",
        "import shutil\n",
        "import posixpath\n",
        "import pandas as pd\n",
        "\n",
        "import wfdb"
      ],
      "execution_count": null,
      "outputs": []
    },
    {
      "cell_type": "code",
      "metadata": {
        "colab": {
          "base_uri": "https://localhost:8080/",
          "height": 924
        },
        "id": "Cbj5Lhh0O8mY",
        "outputId": "3331b7b2-3a5b-450a-f6fe-7838a695bb92"
      },
      "source": [
        "# Demo 1 - Read a WFDB record using the 'rdrecord' function into a wfdb.Record object.\n",
        "# Plot the signals, and show the data.\n",
        "# Can also read the same files hosted on PhysioNet https://physionet.org/content/mimic3wdb/31/3141595/\n",
        "# in the /training/ database subdirectory.\n",
        "record = wfdb.rdrecord('3141595_0001', pn_dir='mimic3wdb/31/3141595/')\n",
        "wfdb.plot_wfdb(record=record, title='Record 3141595n from PhysioNet mimic3wdb') \n",
        "display(record.__dict__)\n",
        "display(len(record.__dict__['p_signal']))"
      ],
      "execution_count": null,
      "outputs": [
        {
          "output_type": "display_data",
          "data": {
            "image/png": "[encoded data removed]",
            "text/plain": [
              "<Figure size 432x288 with 4 Axes>"
            ]
          },
          "metadata": {
            "tags": [],
            "needs_background": "light"
          }
        },
        {
          "output_type": "display_data",
          "data": {
            "text/plain": [
              "{'adc_gain': [1023.0, 515.0, 510.0, 510.0],\n",
              " 'adc_res': [10, 10, 10, 10],\n",
              " 'adc_zero': [512, 512, 512, 512],\n",
              " 'base_counter': None,\n",
              " 'base_date': None,\n",
              " 'base_time': datetime.time(10, 2, 51, 840000),\n",
              " 'baseline': [0, 254, 256, 256],\n",
              " 'block_size': [0, 0, 0, 0],\n",
              " 'byte_offset': [None, None, None, None],\n",
              " 'checksum': [-12412, 19668, 13968, 0],\n",
              " 'comments': [],\n",
              " 'counter_freq': None,\n",
              " 'd_signal': None,\n",
              " 'e_d_signal': None,\n",
              " 'e_p_signal': None,\n",
              " 'file_name': ['3141595_0001.dat',\n",
              "  '3141595_0001.dat',\n",
              "  '3141595_0001.dat',\n",
              "  '3141595_0001.dat'],\n",
              " 'fmt': ['16', '16', '16', '16'],\n",
              " 'fs': 125,\n",
              " 'init_value': [470, 0, 565, 0],\n",
              " 'n_sig': 4,\n",
              " 'p_signal': array([[ 0.45943304, -0.49320388,  0.60588235, -0.50196078],\n",
              "        [ 0.45356794, -0.49320388,  0.62941176, -0.50196078],\n",
              "        [ 0.44965787, -0.49320388,  0.62941176, -0.50196078],\n",
              "        ...,\n",
              "        [ 0.79472141,  0.        , -0.50196078, -0.50196078],\n",
              "        [ 0.79081134,  0.        , -0.50196078, -0.50196078],\n",
              "        [ 0.78690127,  0.        , -0.50196078, -0.50196078]]),\n",
              " 'record_name': '3141595_0001',\n",
              " 'samps_per_frame': [1, 1, 1, 1],\n",
              " 'sig_len': 2888500,\n",
              " 'sig_name': ['PLETH', 'RESP', 'II', 'AVR'],\n",
              " 'skew': [None, None, None, None],\n",
              " 'units': ['NU', 'pm', 'mV', 'mV']}"
            ]
          },
          "metadata": {
            "tags": []
          }
        },
        {
          "output_type": "display_data",
          "data": {
            "text/plain": [
              "2888500"
            ]
          },
          "metadata": {
            "tags": []
          }
        }
      ]
    },
    {
      "cell_type": "code",
      "metadata": {
        "colab": {
          "base_uri": "https://localhost:8080/",
          "height": 289
        },
        "id": "K8WHIcieRnLw",
        "outputId": "44f7a357-f05b-4d0a-8713-3e9ff7c2c2fe"
      },
      "source": [
        "# Demo 2 - Read certain channels and sections of the WFDB record using the simplified 'rdsamp' function\n",
        "# which returns a numpy array and a dictionary. Show the data.\n",
        "# Can also read the same files hosted on Physionet\n",
        "signals, fields = wfdb.rdsamp('3141595_0001', pn_dir='mimic3wdb/31/3141595/')\n",
        "display(signals)\n",
        "display(fields)\n",
        "record_dict = record.__dict__\n",
        "display(record_dict['sig_name'])"
      ],
      "execution_count": null,
      "outputs": [
        {
          "output_type": "display_data",
          "data": {
            "text/plain": [
              "array([[ 0.45943304, -0.49320388,  0.60588235, -0.50196078],\n",
              "       [ 0.45356794, -0.49320388,  0.62941176, -0.50196078],\n",
              "       [ 0.44965787, -0.49320388,  0.62941176, -0.50196078],\n",
              "       ...,\n",
              "       [ 0.79472141,  0.        , -0.50196078, -0.50196078],\n",
              "       [ 0.79081134,  0.        , -0.50196078, -0.50196078],\n",
              "       [ 0.78690127,  0.        , -0.50196078, -0.50196078]])"
            ]
          },
          "metadata": {
            "tags": []
          }
        },
        {
          "output_type": "display_data",
          "data": {
            "text/plain": [
              "{'base_date': None,\n",
              " 'base_time': datetime.time(10, 2, 51, 840000),\n",
              " 'comments': [],\n",
              " 'fs': 125,\n",
              " 'n_sig': 4,\n",
              " 'sig_len': 2888500,\n",
              " 'sig_name': ['PLETH', 'RESP', 'II', 'AVR'],\n",
              " 'units': ['NU', 'pm', 'mV', 'mV']}"
            ]
          },
          "metadata": {
            "tags": []
          }
        },
        {
          "output_type": "display_data",
          "data": {
            "text/plain": [
              "['PLETH', 'RESP', 'II', 'AVR']"
            ]
          },
          "metadata": {
            "tags": []
          }
        }
      ]
    },
    {
      "cell_type": "code",
      "metadata": {
        "colab": {
          "base_uri": "https://localhost:8080/"
        },
        "id": "nQrepb4wSfBa",
        "outputId": "00b3d4cd-1888-4252-ad0b-ccc4ecec979a"
      },
      "source": [
        "df = pd.DataFrame(signals)\n",
        "print(df)"
      ],
      "execution_count": null,
      "outputs": [
        {
          "output_type": "stream",
          "text": [
            "             0      1   2   3   4   5     6     7\n",
            "0        142.0  145.0 NaN NaN NaN NaN  49.0  95.0\n",
            "1        142.0  145.0 NaN NaN NaN NaN  43.0  95.0\n",
            "2        143.0  145.0 NaN NaN NaN NaN  43.0  95.0\n",
            "3        144.0  145.0 NaN NaN NaN NaN  40.0  95.0\n",
            "4        144.0  145.0 NaN NaN NaN NaN  40.0  96.0\n",
            "...        ...    ...  ..  ..  ..  ..   ...   ...\n",
            "1938725  155.0  155.0 NaN NaN NaN NaN  28.0  92.0\n",
            "1938726  155.0  155.0 NaN NaN NaN NaN  27.0  92.0\n",
            "1938727  155.0  155.0 NaN NaN NaN NaN  26.0  92.0\n",
            "1938728  155.0  155.0 NaN NaN NaN NaN  30.0  92.0\n",
            "1938729  155.0  155.0 NaN NaN NaN NaN  30.0  92.0\n",
            "\n",
            "[1938730 rows x 8 columns]\n"
          ],
          "name": "stdout"
        }
      ]
    },
    {
      "cell_type": "code",
      "metadata": {
        "colab": {
          "base_uri": "https://localhost:8080/",
          "height": 833
        },
        "id": "LJyOaASAY1bU",
        "outputId": "da8ca3ab-b325-49b6-9a56-04b72d45c723"
      },
      "source": [
        "record = wfdb.rdrecord('3141595n', pn_dir='mimic3wdb/31/3141595/')\n",
        "display(record.__dict__)\n",
        "display(len(record.__dict__['p_signal']))"
      ],
      "execution_count": null,
      "outputs": [
        {
          "output_type": "display_data",
          "data": {
            "text/plain": [
              "{'adc_gain': [1.0, 1.0, 1.0, 1.0, 1.0, 1.0, 1.0, 1.0],\n",
              " 'adc_res': [16, 16, 16, 16, 16, 16, 16, 16],\n",
              " 'adc_zero': [0, 0, 0, 0, 0, 0, 0, 0],\n",
              " 'base_counter': None,\n",
              " 'base_date': None,\n",
              " 'base_time': datetime.time(10, 2, 52),\n",
              " 'baseline': [0, 0, 0, 0, 0, 0, 0, 0],\n",
              " 'block_size': [0, 0, 0, 0, 0, 0, 0, 0],\n",
              " 'byte_offset': [None, None, None, None, None, None, None, None],\n",
              " 'checksum': [29726, -25932, 8715, -14954, -26331, -11099, 6171, 29829],\n",
              " 'comments': ['Location: nicu'],\n",
              " 'counter_freq': None,\n",
              " 'd_signal': None,\n",
              " 'e_d_signal': None,\n",
              " 'e_p_signal': None,\n",
              " 'file_name': ['3141595n.dat',\n",
              "  '3141595n.dat',\n",
              "  '3141595n.dat',\n",
              "  '3141595n.dat',\n",
              "  '3141595n.dat',\n",
              "  '3141595n.dat',\n",
              "  '3141595n.dat',\n",
              "  '3141595n.dat'],\n",
              " 'fmt': ['16', '16', '16', '16', '16', '16', '16', '16'],\n",
              " 'fs': 1,\n",
              " 'init_value': [142, 145, -32768, -32768, -32768, -32768, 49, 95],\n",
              " 'n_sig': 8,\n",
              " 'p_signal': array([[142., 145.,  nan, ...,  nan,  49.,  95.],\n",
              "        [142., 145.,  nan, ...,  nan,  43.,  95.],\n",
              "        [143., 145.,  nan, ...,  nan,  43.,  95.],\n",
              "        ...,\n",
              "        [155., 155.,  nan, ...,  nan,  26.,  92.],\n",
              "        [155., 155.,  nan, ...,  nan,  30.,  92.],\n",
              "        [155., 155.,  nan, ...,  nan,  30.,  92.]]),\n",
              " 'record_name': '3141595n',\n",
              " 'samps_per_frame': [1, 1, 1, 1, 1, 1, 1, 1],\n",
              " 'sig_len': 1938730,\n",
              " 'sig_name': ['HR',\n",
              "  'PULSE',\n",
              "  'NBP',\n",
              "  'NBP Sys',\n",
              "  'NBP Dias',\n",
              "  'NBP Mean',\n",
              "  'RESP',\n",
              "  'SpO2'],\n",
              " 'skew': [None, None, None, None, None, None, None, None],\n",
              " 'units': ['bpm', 'bpm', 'mmHg', 'mmHg', 'mmHg', 'mmHg', 'pm', '%']}"
            ]
          },
          "metadata": {
            "tags": []
          }
        },
        {
          "output_type": "display_data",
          "data": {
            "text/plain": [
              "1938730"
            ]
          },
          "metadata": {
            "tags": []
          }
        }
      ]
    }
  ]
}